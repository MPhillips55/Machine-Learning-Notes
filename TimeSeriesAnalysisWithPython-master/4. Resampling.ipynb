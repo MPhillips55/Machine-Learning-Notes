{
 "cells": [
  {
   "cell_type": "code",
   "execution_count": 1,
   "metadata": {
    "collapsed": true
   },
   "outputs": [],
   "source": [
    "import pandas as pd\n",
    "import numpy as np"
   ]
  },
  {
   "cell_type": "code",
   "execution_count": 7,
   "metadata": {
    "collapsed": false
   },
   "outputs": [
    {
     "data": {
      "text/plain": [
       "2011-01-01 00:00:00    0.971993\n",
       "2011-01-01 01:00:00   -0.689977\n",
       "2011-01-01 02:00:00   -1.207720\n",
       "2011-01-01 03:00:00   -0.235106\n",
       "2011-01-01 04:00:00    0.395581\n",
       "2011-01-01 05:00:00   -0.620724\n",
       "2011-01-01 06:00:00   -2.001655\n",
       "2011-01-01 07:00:00   -0.536293\n",
       "2011-01-01 08:00:00   -0.618875\n",
       "2011-01-01 09:00:00   -0.275998\n",
       "2011-01-01 10:00:00    0.745543\n",
       "2011-01-01 11:00:00    0.696566\n",
       "2011-01-01 12:00:00   -0.992949\n",
       "2011-01-01 13:00:00    0.189808\n",
       "2011-01-01 14:00:00   -0.855828\n",
       "2011-01-01 15:00:00    0.700479\n",
       "2011-01-01 16:00:00    0.248212\n",
       "2011-01-01 17:00:00    0.584009\n",
       "2011-01-01 18:00:00    0.158600\n",
       "2011-01-01 19:00:00   -3.003098\n",
       "2011-01-01 20:00:00    0.935147\n",
       "2011-01-01 21:00:00    0.378086\n",
       "2011-01-01 22:00:00    0.218523\n",
       "2011-01-01 23:00:00   -2.083334\n",
       "2011-01-02 00:00:00    0.944470\n",
       "2011-01-02 01:00:00    1.018613\n",
       "2011-01-02 02:00:00   -1.991034\n",
       "2011-01-02 03:00:00   -0.345621\n",
       "2011-01-02 04:00:00    0.959187\n",
       "2011-01-02 05:00:00    0.172569\n",
       "                         ...   \n",
       "2011-01-02 18:00:00    1.069288\n",
       "2011-01-02 19:00:00   -0.116891\n",
       "2011-01-02 20:00:00    0.425578\n",
       "2011-01-02 21:00:00   -1.091335\n",
       "2011-01-02 22:00:00    0.329430\n",
       "2011-01-02 23:00:00   -1.923354\n",
       "2011-01-03 00:00:00   -0.251016\n",
       "2011-01-03 01:00:00   -1.193722\n",
       "2011-01-03 02:00:00   -0.513559\n",
       "2011-01-03 03:00:00   -0.733880\n",
       "2011-01-03 04:00:00   -1.400828\n",
       "2011-01-03 05:00:00    1.408237\n",
       "2011-01-03 06:00:00    0.347840\n",
       "2011-01-03 07:00:00   -1.799751\n",
       "2011-01-03 08:00:00    1.542609\n",
       "2011-01-03 09:00:00    0.132435\n",
       "2011-01-03 10:00:00   -0.286316\n",
       "2011-01-03 11:00:00    0.147643\n",
       "2011-01-03 12:00:00   -0.699965\n",
       "2011-01-03 13:00:00   -0.080454\n",
       "2011-01-03 14:00:00    0.358583\n",
       "2011-01-03 15:00:00    1.120323\n",
       "2011-01-03 16:00:00    0.698374\n",
       "2011-01-03 17:00:00    1.669963\n",
       "2011-01-03 18:00:00    1.722030\n",
       "2011-01-03 19:00:00    0.421725\n",
       "2011-01-03 20:00:00    0.488109\n",
       "2011-01-03 21:00:00    1.087357\n",
       "2011-01-03 22:00:00    1.354764\n",
       "2011-01-03 23:00:00   -1.419699\n",
       "Freq: H, Length: 72, dtype: float64"
      ]
     },
     "execution_count": 7,
     "metadata": {},
     "output_type": "execute_result"
    }
   ],
   "source": [
    "rng = pd.date_range('1/1/2011', periods=72, freq='H')\n",
    "ts = pd.Series(np.random.randn(len(rng)), index=rng)\n",
    "ts"
   ]
  },
  {
   "cell_type": "code",
   "execution_count": 9,
   "metadata": {
    "collapsed": false
   },
   "outputs": [
    {
     "data": {
      "text/plain": [
       "2011-01-01 00:00:00    0.971993\n",
       "2011-01-01 00:45:00    0.971993\n",
       "2011-01-01 01:30:00   -0.689977\n",
       "2011-01-01 02:15:00   -1.207720\n",
       "2011-01-01 03:00:00   -0.235106\n",
       "2011-01-01 03:45:00   -0.235106\n",
       "2011-01-01 04:30:00    0.395581\n",
       "2011-01-01 05:15:00   -0.620724\n",
       "2011-01-01 06:00:00   -2.001655\n",
       "2011-01-01 06:45:00   -2.001655\n",
       "2011-01-01 07:30:00   -0.536293\n",
       "2011-01-01 08:15:00   -0.618875\n",
       "2011-01-01 09:00:00   -0.275998\n",
       "2011-01-01 09:45:00   -0.275998\n",
       "2011-01-01 10:30:00    0.745543\n",
       "2011-01-01 11:15:00    0.696566\n",
       "2011-01-01 12:00:00   -0.992949\n",
       "2011-01-01 12:45:00   -0.992949\n",
       "2011-01-01 13:30:00    0.189808\n",
       "2011-01-01 14:15:00   -0.855828\n",
       "2011-01-01 15:00:00    0.700479\n",
       "2011-01-01 15:45:00    0.700479\n",
       "2011-01-01 16:30:00    0.248212\n",
       "2011-01-01 17:15:00    0.584009\n",
       "2011-01-01 18:00:00    0.158600\n",
       "2011-01-01 18:45:00    0.158600\n",
       "2011-01-01 19:30:00   -3.003098\n",
       "2011-01-01 20:15:00    0.935147\n",
       "2011-01-01 21:00:00    0.378086\n",
       "2011-01-01 21:45:00    0.378086\n",
       "                         ...   \n",
       "2011-01-03 00:45:00   -0.251016\n",
       "2011-01-03 01:30:00   -1.193722\n",
       "2011-01-03 02:15:00   -0.513559\n",
       "2011-01-03 03:00:00   -0.733880\n",
       "2011-01-03 03:45:00   -0.733880\n",
       "2011-01-03 04:30:00   -1.400828\n",
       "2011-01-03 05:15:00    1.408237\n",
       "2011-01-03 06:00:00    0.347840\n",
       "2011-01-03 06:45:00    0.347840\n",
       "2011-01-03 07:30:00   -1.799751\n",
       "2011-01-03 08:15:00    1.542609\n",
       "2011-01-03 09:00:00    0.132435\n",
       "2011-01-03 09:45:00    0.132435\n",
       "2011-01-03 10:30:00   -0.286316\n",
       "2011-01-03 11:15:00    0.147643\n",
       "2011-01-03 12:00:00   -0.699965\n",
       "2011-01-03 12:45:00   -0.699965\n",
       "2011-01-03 13:30:00   -0.080454\n",
       "2011-01-03 14:15:00    0.358583\n",
       "2011-01-03 15:00:00    1.120323\n",
       "2011-01-03 15:45:00    1.120323\n",
       "2011-01-03 16:30:00    0.698374\n",
       "2011-01-03 17:15:00    1.669963\n",
       "2011-01-03 18:00:00    1.722030\n",
       "2011-01-03 18:45:00    1.722030\n",
       "2011-01-03 19:30:00    0.421725\n",
       "2011-01-03 20:15:00    0.488109\n",
       "2011-01-03 21:00:00    1.087357\n",
       "2011-01-03 21:45:00    1.087357\n",
       "2011-01-03 22:30:00    1.354764\n",
       "Freq: 45T, Length: 95, dtype: float64"
      ]
     },
     "execution_count": 9,
     "metadata": {},
     "output_type": "execute_result"
    }
   ],
   "source": [
    "converted = ts.asfreq('45Min', method='pad')\n",
    "converted"
   ]
  },
  {
   "cell_type": "code",
   "execution_count": 10,
   "metadata": {
    "collapsed": true
   },
   "outputs": [],
   "source": [
    "# Does asfreq change the # of rows?\n",
    "# yes"
   ]
  },
  {
   "cell_type": "code",
   "execution_count": null,
   "metadata": {
    "collapsed": false
   },
   "outputs": [],
   "source": [
    "# What do the different methods do?\n",
    "# method : {‘backfill’, ‘bfill’, ‘pad’, ‘ffill’, None}\n",
    "\n",
    "# backfill will fill packwards, forward fill will fill forward, none will not fill at all"
   ]
  },
  {
   "cell_type": "code",
   "execution_count": null,
   "metadata": {
    "collapsed": false
   },
   "outputs": [],
   "source": [
    "# Might any of these methods have pitfalls from a logical point of view?\n",
    "# you need to know your data and choose the most useful method to fill\n",
    "# the pitfalls would depend on what you are doing"
   ]
  },
  {
   "cell_type": "code",
   "execution_count": null,
   "metadata": {
    "collapsed": true
   },
   "outputs": [],
   "source": [
    "# What's the difference between going to a higher frequency and a lower frequency?\n",
    "# higher freq will increase the number of rows, lower freq will lose rows"
   ]
  },
  {
   "cell_type": "code",
   "execution_count": 11,
   "metadata": {
    "collapsed": true
   },
   "outputs": [],
   "source": [
    "converted = ts.asfreq('90Min', method = 'bfill')"
   ]
  },
  {
   "cell_type": "code",
   "execution_count": null,
   "metadata": {
    "collapsed": true
   },
   "outputs": [],
   "source": [
    "# What's different logically about going to a higher frequency vs a lower frequency? \n",
    "# higher freq will increase the number of rows, lower freq will lose rows\n",
    "\n",
    "# What do you want to do when switching to a lower freqeuncy that is not logical when switching to a higher frequency?\n",
    "# you want to use resample, instead of simply losing rows"
   ]
  },
  {
   "cell_type": "code",
   "execution_count": 12,
   "metadata": {
    "collapsed": false
   },
   "outputs": [
    {
     "data": {
      "text/plain": [
       "2011-01-01   -6.899011\n",
       "2011-01-02    2.656422\n",
       "2011-01-03    4.120801\n",
       "Freq: D, dtype: float64"
      ]
     },
     "execution_count": 12,
     "metadata": {},
     "output_type": "execute_result"
    }
   ],
   "source": [
    "ts.resample('D').sum()"
   ]
  },
  {
   "cell_type": "code",
   "execution_count": null,
   "metadata": {
    "collapsed": true
   },
   "outputs": [],
   "source": [
    "# What if you want to downsample and you don't want to ffill or bfill?\n",
    "# you could use resample"
   ]
  },
  {
   "cell_type": "code",
   "execution_count": null,
   "metadata": {
    "collapsed": true
   },
   "outputs": [],
   "source": [
    "# What is the difference between .resample() and .asfreq()?\n",
    "# resample is aggregating the data across a given range\n",
    "# asfreq is just filling data to different time lengths"
   ]
  },
  {
   "cell_type": "code",
   "execution_count": null,
   "metadata": {
    "collapsed": true
   },
   "outputs": [],
   "source": [
    "# What are some special things you can do with .resample() you can't do with .asfreq()?\n",
    "# with resample you get an object, count, variance, mean, etc."
   ]
  },
  {
   "cell_type": "code",
   "execution_count": null,
   "metadata": {
    "collapsed": true
   },
   "outputs": [],
   "source": []
  }
 ],
 "metadata": {
  "kernelspec": {
   "display_name": "Python [conda env:py3DataScience]",
   "language": "python",
   "name": "conda-env-py3DataScience-py"
  },
  "language_info": {
   "codemirror_mode": {
    "name": "ipython",
    "version": 3
   },
   "file_extension": ".py",
   "mimetype": "text/x-python",
   "name": "python",
   "nbconvert_exporter": "python",
   "pygments_lexer": "ipython3",
   "version": "3.5.3"
  }
 },
 "nbformat": 4,
 "nbformat_minor": 0
}
